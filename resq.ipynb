{
 "cells": [
  {
   "cell_type": "code",
   "execution_count": 12,
   "metadata": {
    "collapsed": true
   },
   "outputs": [],
   "source": [
    "import pandas as pd\n",
    "from datetime import datetime\n",
    "import numpy as np"
   ]
  },
  {
   "cell_type": "code",
   "execution_count": 2,
   "metadata": {},
   "outputs": [
    {
     "data": {
      "text/html": [
       "<div>\n",
       "<style>\n",
       "    .dataframe thead tr:only-child th {\n",
       "        text-align: right;\n",
       "    }\n",
       "\n",
       "    .dataframe thead th {\n",
       "        text-align: left;\n",
       "    }\n",
       "\n",
       "    .dataframe tbody tr th {\n",
       "        vertical-align: top;\n",
       "    }\n",
       "</style>\n",
       "<table border=\"1\" class=\"dataframe\">\n",
       "  <thead>\n",
       "    <tr style=\"text-align: right;\">\n",
       "      <th></th>\n",
       "      <th>Invoice_number</th>\n",
       "      <th>Date</th>\n",
       "      <th>Customer_name</th>\n",
       "      <th>Place</th>\n",
       "      <th>Product</th>\n",
       "      <th>Quantity</th>\n",
       "      <th>Serial</th>\n",
       "      <th>Amount</th>\n",
       "      <th>Tax</th>\n",
       "      <th>Contact_number</th>\n",
       "    </tr>\n",
       "  </thead>\n",
       "  <tbody>\n",
       "    <tr>\n",
       "      <th>0</th>\n",
       "      <td>NaN</td>\n",
       "      <td>NaN</td>\n",
       "      <td>NaN</td>\n",
       "      <td>NaN</td>\n",
       "      <td>NaN</td>\n",
       "      <td>NaN</td>\n",
       "      <td>NaN</td>\n",
       "      <td>NaN</td>\n",
       "      <td>NaN</td>\n",
       "      <td>NaN</td>\n",
       "    </tr>\n",
       "    <tr>\n",
       "      <th>1</th>\n",
       "      <td>3090</td>\n",
       "      <td>05.06.17</td>\n",
       "      <td>MM Forgings</td>\n",
       "      <td>Guindy</td>\n",
       "      <td>Inter link cables</td>\n",
       "      <td>1No</td>\n",
       "      <td>NaN</td>\n",
       "      <td>NaN</td>\n",
       "      <td>NaN</td>\n",
       "      <td>22352518</td>\n",
       "    </tr>\n",
       "    <tr>\n",
       "      <th>2</th>\n",
       "      <td>NaN</td>\n",
       "      <td>NaN</td>\n",
       "      <td>NaN</td>\n",
       "      <td>NaN</td>\n",
       "      <td>NaN</td>\n",
       "      <td>NaN</td>\n",
       "      <td>NaN</td>\n",
       "      <td>NaN</td>\n",
       "      <td>NaN</td>\n",
       "      <td>NaN</td>\n",
       "    </tr>\n",
       "    <tr>\n",
       "      <th>3</th>\n",
       "      <td>3092</td>\n",
       "      <td>05.06.17</td>\n",
       "      <td>MM Forgings</td>\n",
       "      <td>Guindy</td>\n",
       "      <td>100 Ah B Rack</td>\n",
       "      <td>1No</td>\n",
       "      <td>NaN</td>\n",
       "      <td>NaN</td>\n",
       "      <td>NaN</td>\n",
       "      <td>9840980468</td>\n",
       "    </tr>\n",
       "    <tr>\n",
       "      <th>4</th>\n",
       "      <td>NaN</td>\n",
       "      <td>NaN</td>\n",
       "      <td>NaN</td>\n",
       "      <td>NaN</td>\n",
       "      <td>NaN</td>\n",
       "      <td>NaN</td>\n",
       "      <td>NaN</td>\n",
       "      <td>NaN</td>\n",
       "      <td>NaN</td>\n",
       "      <td>NaN</td>\n",
       "    </tr>\n",
       "  </tbody>\n",
       "</table>\n",
       "</div>"
      ],
      "text/plain": [
       "  Invoice_number      Date Customer_name   Place            Product Quantity  \\\n",
       "0            NaN       NaN           NaN     NaN                NaN      NaN   \n",
       "1           3090  05.06.17   MM Forgings  Guindy  Inter link cables      1No   \n",
       "2            NaN       NaN           NaN     NaN                NaN      NaN   \n",
       "3           3092  05.06.17   MM Forgings  Guindy      100 Ah B Rack      1No   \n",
       "4            NaN       NaN           NaN     NaN                NaN      NaN   \n",
       "\n",
       "  Serial  Amount  Tax Contact_number  \n",
       "0    NaN     NaN  NaN            NaN  \n",
       "1    NaN     NaN  NaN       22352518  \n",
       "2    NaN     NaN  NaN            NaN  \n",
       "3    NaN     NaN  NaN     9840980468  \n",
       "4    NaN     NaN  NaN            NaN  "
      ]
     },
     "execution_count": 2,
     "metadata": {},
     "output_type": "execute_result"
    }
   ],
   "source": [
    "# Giving column names according to our wish, and reading the excel file\n",
    "user_cols = ['Invoice_number', 'Date', 'Customer_name', 'Place', 'Product', 'Quantity','Serial','Amount','Tax','Contact_number']\n",
    "orders = pd.read_excel('JUNE  2017-18.xls', names = user_cols, skiprows = 5, header = None)\n",
    "orders.head()"
   ]
  },
  {
   "cell_type": "code",
   "execution_count": 3,
   "metadata": {
    "scrolled": true
   },
   "outputs": [
    {
     "data": {
      "text/html": [
       "<div>\n",
       "<style>\n",
       "    .dataframe thead tr:only-child th {\n",
       "        text-align: right;\n",
       "    }\n",
       "\n",
       "    .dataframe thead th {\n",
       "        text-align: left;\n",
       "    }\n",
       "\n",
       "    .dataframe tbody tr th {\n",
       "        vertical-align: top;\n",
       "    }\n",
       "</style>\n",
       "<table border=\"1\" class=\"dataframe\">\n",
       "  <thead>\n",
       "    <tr style=\"text-align: right;\">\n",
       "      <th></th>\n",
       "      <th>Invoice_number</th>\n",
       "      <th>Date</th>\n",
       "      <th>Customer_name</th>\n",
       "      <th>Place</th>\n",
       "      <th>Product</th>\n",
       "      <th>Quantity</th>\n",
       "      <th>Contact_number</th>\n",
       "    </tr>\n",
       "  </thead>\n",
       "  <tbody>\n",
       "    <tr>\n",
       "      <th>1</th>\n",
       "      <td>3090</td>\n",
       "      <td>05.06.17</td>\n",
       "      <td>MM Forgings</td>\n",
       "      <td>Guindy</td>\n",
       "      <td>Inter link cables</td>\n",
       "      <td>1No</td>\n",
       "      <td>22352518</td>\n",
       "    </tr>\n",
       "    <tr>\n",
       "      <th>3</th>\n",
       "      <td>3092</td>\n",
       "      <td>05.06.17</td>\n",
       "      <td>MM Forgings</td>\n",
       "      <td>Guindy</td>\n",
       "      <td>100 Ah B Rack</td>\n",
       "      <td>1No</td>\n",
       "      <td>9840980468</td>\n",
       "    </tr>\n",
       "    <tr>\n",
       "      <th>5</th>\n",
       "      <td>3093</td>\n",
       "      <td>05.06.17</td>\n",
       "      <td>Valli Textile</td>\n",
       "      <td>Virudhunagar</td>\n",
       "      <td>PSDR Board</td>\n",
       "      <td>1No</td>\n",
       "      <td>04562-284615/28</td>\n",
       "    </tr>\n",
       "    <tr>\n",
       "      <th>7</th>\n",
       "      <td>3099</td>\n",
       "      <td>07.06.17</td>\n",
       "      <td>Tafe Access</td>\n",
       "      <td>Kelambakkam</td>\n",
       "      <td>APFC Panel</td>\n",
       "      <td>1No</td>\n",
       "      <td>27498145</td>\n",
       "    </tr>\n",
       "    <tr>\n",
       "      <th>9</th>\n",
       "      <td>3101</td>\n",
       "      <td>09.06.17</td>\n",
       "      <td>Sysveda Information</td>\n",
       "      <td>Perungudi</td>\n",
       "      <td>Inter Link Cable</td>\n",
       "      <td>1No</td>\n",
       "      <td>9841076572</td>\n",
       "    </tr>\n",
       "  </tbody>\n",
       "</table>\n",
       "</div>"
      ],
      "text/plain": [
       "  Invoice_number      Date        Customer_name         Place  \\\n",
       "1           3090  05.06.17          MM Forgings        Guindy   \n",
       "3           3092  05.06.17          MM Forgings        Guindy   \n",
       "5           3093  05.06.17        Valli Textile  Virudhunagar   \n",
       "7           3099  07.06.17          Tafe Access   Kelambakkam   \n",
       "9           3101  09.06.17  Sysveda Information     Perungudi   \n",
       "\n",
       "             Product Quantity   Contact_number  \n",
       "1  Inter link cables      1No         22352518  \n",
       "3      100 Ah B Rack      1No       9840980468  \n",
       "5         PSDR Board      1No  04562-284615/28  \n",
       "7         APFC Panel      1No         27498145  \n",
       "9   Inter Link Cable      1No       9841076572  "
      ]
     },
     "execution_count": 3,
     "metadata": {},
     "output_type": "execute_result"
    }
   ],
   "source": [
    "# dropping the columns Serial, Amount and Tax as almost all entries are of 'NaN'\n",
    "\n",
    "orders.dropna(how = 'all', inplace = True)\n",
    "orders.drop(orders.columns[[6, 7, 8]], axis = 1, inplace = True)\n",
    "orders.head()"
   ]
  },
  {
   "cell_type": "code",
   "execution_count": null,
   "metadata": {},
   "outputs": [],
   "source": [
    "orders.info()"
   ]
  },
  {
   "cell_type": "code",
   "execution_count": 5,
   "metadata": {},
   "outputs": [
    {
     "data": {
      "text/html": [
       "<div>\n",
       "<style>\n",
       "    .dataframe thead tr:only-child th {\n",
       "        text-align: right;\n",
       "    }\n",
       "\n",
       "    .dataframe thead th {\n",
       "        text-align: left;\n",
       "    }\n",
       "\n",
       "    .dataframe tbody tr th {\n",
       "        vertical-align: top;\n",
       "    }\n",
       "</style>\n",
       "<table border=\"1\" class=\"dataframe\">\n",
       "  <thead>\n",
       "    <tr style=\"text-align: right;\">\n",
       "      <th></th>\n",
       "      <th>Invoice_number</th>\n",
       "      <th>Date</th>\n",
       "      <th>Customer_name</th>\n",
       "      <th>Place</th>\n",
       "      <th>Product</th>\n",
       "      <th>Quantity</th>\n",
       "      <th>Contact_number</th>\n",
       "    </tr>\n",
       "  </thead>\n",
       "  <tbody>\n",
       "    <tr>\n",
       "      <th>count</th>\n",
       "      <td>95</td>\n",
       "      <td>95</td>\n",
       "      <td>101</td>\n",
       "      <td>102</td>\n",
       "      <td>150</td>\n",
       "      <td>143</td>\n",
       "      <td>79</td>\n",
       "    </tr>\n",
       "    <tr>\n",
       "      <th>unique</th>\n",
       "      <td>95</td>\n",
       "      <td>25</td>\n",
       "      <td>78</td>\n",
       "      <td>68</td>\n",
       "      <td>99</td>\n",
       "      <td>37</td>\n",
       "      <td>64</td>\n",
       "    </tr>\n",
       "    <tr>\n",
       "      <th>top</th>\n",
       "      <td>2157</td>\n",
       "      <td>30.06.17</td>\n",
       "      <td>MM Forgings</td>\n",
       "      <td>Guindy</td>\n",
       "      <td>Eaton 9145 1 UPS</td>\n",
       "      <td>1No</td>\n",
       "      <td>9940915004</td>\n",
       "    </tr>\n",
       "    <tr>\n",
       "      <th>freq</th>\n",
       "      <td>1</td>\n",
       "      <td>14</td>\n",
       "      <td>8</td>\n",
       "      <td>8</td>\n",
       "      <td>12</td>\n",
       "      <td>51</td>\n",
       "      <td>4</td>\n",
       "    </tr>\n",
       "  </tbody>\n",
       "</table>\n",
       "</div>"
      ],
      "text/plain": [
       "        Invoice_number      Date Customer_name   Place           Product  \\\n",
       "count               95        95           101     102               150   \n",
       "unique              95        25            78      68                99   \n",
       "top               2157  30.06.17   MM Forgings  Guindy  Eaton 9145 1 UPS   \n",
       "freq                 1        14             8       8                12   \n",
       "\n",
       "       Quantity  Contact_number  \n",
       "count       143              79  \n",
       "unique       37              64  \n",
       "top         1No      9940915004  \n",
       "freq         51               4  "
      ]
     },
     "execution_count": 5,
     "metadata": {},
     "output_type": "execute_result"
    }
   ],
   "source": [
    "orders.describe()"
   ]
  },
  {
   "cell_type": "markdown",
   "metadata": {},
   "source": [
    "The above description says : \n",
    "\n",
    "   * Most active day of the month : ** 30th June 2017, 14 items. **\n",
    "   * Most active client of the month : ** MM Forgings, 8 times **\n",
    "   * Maximum orders came from : ** Guindy, Chennai , 8 times **\n",
    "   * Best selling product of the month : ** Eaton 9145 1 UPS, 12 times **\n",
    "   * Total Sales of the month : ** 95 Invoices generated **"
   ]
  },
  {
   "cell_type": "code",
   "execution_count": 8,
   "metadata": {},
   "outputs": [
    {
     "data": {
      "text/html": [
       "<div>\n",
       "<style>\n",
       "    .dataframe thead tr:only-child th {\n",
       "        text-align: right;\n",
       "    }\n",
       "\n",
       "    .dataframe thead th {\n",
       "        text-align: left;\n",
       "    }\n",
       "\n",
       "    .dataframe tbody tr th {\n",
       "        vertical-align: top;\n",
       "    }\n",
       "</style>\n",
       "<table border=\"1\" class=\"dataframe\">\n",
       "  <thead>\n",
       "    <tr style=\"text-align: right;\">\n",
       "      <th></th>\n",
       "      <th>Date</th>\n",
       "      <th>Invoice_number</th>\n",
       "      <th>Customer_name</th>\n",
       "      <th>Contact_number</th>\n",
       "    </tr>\n",
       "  </thead>\n",
       "  <tbody>\n",
       "    <tr>\n",
       "      <th>44</th>\n",
       "      <td>01.06.17</td>\n",
       "      <td>2093</td>\n",
       "      <td>USUI Susira</td>\n",
       "      <td>9710013151</td>\n",
       "    </tr>\n",
       "    <tr>\n",
       "      <th>40</th>\n",
       "      <td>01.06.17</td>\n",
       "      <td>2092</td>\n",
       "      <td>USUI Susira</td>\n",
       "      <td>9710013151</td>\n",
       "    </tr>\n",
       "    <tr>\n",
       "      <th>36</th>\n",
       "      <td>01.06.17</td>\n",
       "      <td>2091</td>\n",
       "      <td>USUI Susira</td>\n",
       "      <td>9710013151</td>\n",
       "    </tr>\n",
       "    <tr>\n",
       "      <th>51</th>\n",
       "      <td>02.06.17</td>\n",
       "      <td>2095</td>\n",
       "      <td>Hueco India</td>\n",
       "      <td>9600073851</td>\n",
       "    </tr>\n",
       "    <tr>\n",
       "      <th>57</th>\n",
       "      <td>03.06.17</td>\n",
       "      <td>2098</td>\n",
       "      <td>Park Plaza</td>\n",
       "      <td>9382244150</td>\n",
       "    </tr>\n",
       "  </tbody>\n",
       "</table>\n",
       "</div>"
      ],
      "text/plain": [
       "        Date Invoice_number Customer_name Contact_number\n",
       "44  01.06.17           2093  USUI Susira      9710013151\n",
       "40  01.06.17           2092  USUI Susira      9710013151\n",
       "36  01.06.17           2091  USUI Susira      9710013151\n",
       "51  02.06.17           2095   Hueco India     9600073851\n",
       "57  03.06.17           2098    Park Plaza     9382244150"
      ]
     },
     "execution_count": 8,
     "metadata": {},
     "output_type": "execute_result"
    }
   ],
   "source": [
    "# for mailing purpose taking the essential fields alone\n",
    "essentials = orders[['Date', 'Invoice_number', 'Customer_name', 'Contact_number']].copy()\n",
    "# .copy() to avoid SettingWithCopyWarning\n",
    "essentials.dropna(how = 'any',inplace = True)\n",
    "# drops the row even if one of the field is missing \n",
    "essentials.sort_values('Date', inplace = True)\n",
    "# Sorts the date string\n",
    "essentials.head()"
   ]
  },
  {
   "cell_type": "code",
   "execution_count": 9,
   "metadata": {},
   "outputs": [
    {
     "data": {
      "text/plain": [
       "(76, 4)"
      ]
     },
     "execution_count": 9,
     "metadata": {},
     "output_type": "execute_result"
    }
   ],
   "source": [
    "essentials.shape"
   ]
  },
  {
   "cell_type": "code",
   "execution_count": null,
   "metadata": {
    "collapsed": true
   },
   "outputs": [],
   "source": [
    "# for eliminating telephone numbers where messages can't be sent\n",
    "rejected = []\n",
    "for number in essentials['Contact_number']:\n",
    "    if len(str(number)) != 10:\n",
    "        rejected.append(number)\n",
    "rejected"
   ]
  },
  {
   "cell_type": "code",
   "execution_count": null,
   "metadata": {
    "collapsed": true,
    "scrolled": true
   },
   "outputs": [],
   "source": [
    "# Converting every element in the df into string dtype\n",
    "essentials.applymap(str)"
   ]
  },
  {
   "cell_type": "code",
   "execution_count": 14,
   "metadata": {
    "scrolled": true
   },
   "outputs": [
    {
     "data": {
      "text/html": [
       "<div>\n",
       "<style>\n",
       "    .dataframe thead tr:only-child th {\n",
       "        text-align: right;\n",
       "    }\n",
       "\n",
       "    .dataframe thead th {\n",
       "        text-align: left;\n",
       "    }\n",
       "\n",
       "    .dataframe tbody tr th {\n",
       "        vertical-align: top;\n",
       "    }\n",
       "</style>\n",
       "<table border=\"1\" class=\"dataframe\">\n",
       "  <thead>\n",
       "    <tr style=\"text-align: right;\">\n",
       "      <th></th>\n",
       "      <th>Date</th>\n",
       "      <th>Invoice_number</th>\n",
       "      <th>Customer_name</th>\n",
       "      <th>Contact_number</th>\n",
       "    </tr>\n",
       "  </thead>\n",
       "  <tbody>\n",
       "    <tr>\n",
       "      <th>1</th>\n",
       "      <td>01.06.17</td>\n",
       "      <td>2093</td>\n",
       "      <td>USUI Susira</td>\n",
       "      <td>9710013151</td>\n",
       "    </tr>\n",
       "    <tr>\n",
       "      <th>2</th>\n",
       "      <td>01.06.17</td>\n",
       "      <td>2092</td>\n",
       "      <td>USUI Susira</td>\n",
       "      <td>9710013151</td>\n",
       "    </tr>\n",
       "    <tr>\n",
       "      <th>3</th>\n",
       "      <td>01.06.17</td>\n",
       "      <td>2091</td>\n",
       "      <td>USUI Susira</td>\n",
       "      <td>9710013151</td>\n",
       "    </tr>\n",
       "    <tr>\n",
       "      <th>4</th>\n",
       "      <td>02.06.17</td>\n",
       "      <td>2095</td>\n",
       "      <td>Hueco India</td>\n",
       "      <td>9600073851</td>\n",
       "    </tr>\n",
       "    <tr>\n",
       "      <th>5</th>\n",
       "      <td>03.06.17</td>\n",
       "      <td>2098</td>\n",
       "      <td>Park Plaza</td>\n",
       "      <td>9382244150</td>\n",
       "    </tr>\n",
       "  </tbody>\n",
       "</table>\n",
       "</div>"
      ],
      "text/plain": [
       "       Date Invoice_number Customer_name Contact_number\n",
       "1  01.06.17           2093  USUI Susira      9710013151\n",
       "2  01.06.17           2092  USUI Susira      9710013151\n",
       "3  01.06.17           2091  USUI Susira      9710013151\n",
       "4  02.06.17           2095   Hueco India     9600073851\n",
       "5  03.06.17           2098    Park Plaza     9382244150"
      ]
     },
     "execution_count": 14,
     "metadata": {},
     "output_type": "execute_result"
    }
   ],
   "source": [
    "# for getting the contact details of the customer_name along with the date of purchase and invoice number\n",
    "# also resetting the index into 1, 2, 3 ...\n",
    "essentials.index = np.arange(1, len(essentials)+1)\n",
    "essentials.head()"
   ]
  },
  {
   "cell_type": "code",
   "execution_count": 15,
   "metadata": {
    "collapsed": true
   },
   "outputs": [],
   "source": [
    "# exporting the above dataframe into a csv file named 'resq-June-2017-phone-numbers.csv'\n",
    "essentials.to_csv('resq-June-2017.csv', index = True,  index_label = 'Serial', encoding='utf-8')"
   ]
  },
  {
   "cell_type": "code",
   "execution_count": null,
   "metadata": {
    "collapsed": true
   },
   "outputs": [],
   "source": [
    "# for getting mobile numbers alone, which are of 10 digits\n",
    "essentials = essentials[essentials['Contact_number'].map(lambda x:len(str(x))) == 10]"
   ]
  },
  {
   "cell_type": "code",
   "execution_count": null,
   "metadata": {},
   "outputs": [],
   "source": [
    "essentials.reset_index(drop=True, inplace = True)\n",
    "essentials"
   ]
  },
  {
   "cell_type": "code",
   "execution_count": null,
   "metadata": {
    "collapsed": true
   },
   "outputs": [],
   "source": [
    "essentials.to_csv('resq-June-2017.csv', index = True,  index_label = 'Serial', encoding='utf-8')"
   ]
  },
  {
   "cell_type": "code",
   "execution_count": 26,
   "metadata": {
    "scrolled": true
   },
   "outputs": [
    {
     "data": {
      "text/html": [
       "<div>\n",
       "<style>\n",
       "    .dataframe thead tr:only-child th {\n",
       "        text-align: right;\n",
       "    }\n",
       "\n",
       "    .dataframe thead th {\n",
       "        text-align: left;\n",
       "    }\n",
       "\n",
       "    .dataframe tbody tr th {\n",
       "        vertical-align: top;\n",
       "    }\n",
       "</style>\n",
       "<table border=\"1\" class=\"dataframe\">\n",
       "  <thead>\n",
       "    <tr style=\"text-align: right;\">\n",
       "      <th></th>\n",
       "      <th>Date</th>\n",
       "      <th>Invoice_number</th>\n",
       "      <th>Customer_name</th>\n",
       "      <th>Contact_number</th>\n",
       "    </tr>\n",
       "    <tr>\n",
       "      <th>Serial</th>\n",
       "      <th></th>\n",
       "      <th></th>\n",
       "      <th></th>\n",
       "      <th></th>\n",
       "    </tr>\n",
       "  </thead>\n",
       "  <tbody>\n",
       "    <tr>\n",
       "      <th>1</th>\n",
       "      <td>01.06.17</td>\n",
       "      <td>2093</td>\n",
       "      <td>USUI Susira</td>\n",
       "      <td>9710013151</td>\n",
       "    </tr>\n",
       "    <tr>\n",
       "      <th>2</th>\n",
       "      <td>01.06.17</td>\n",
       "      <td>2092</td>\n",
       "      <td>USUI Susira</td>\n",
       "      <td>9710013151</td>\n",
       "    </tr>\n",
       "    <tr>\n",
       "      <th>3</th>\n",
       "      <td>01.06.17</td>\n",
       "      <td>2091</td>\n",
       "      <td>USUI Susira</td>\n",
       "      <td>9710013151</td>\n",
       "    </tr>\n",
       "    <tr>\n",
       "      <th>4</th>\n",
       "      <td>02.06.17</td>\n",
       "      <td>2095</td>\n",
       "      <td>Hueco India</td>\n",
       "      <td>9600073851</td>\n",
       "    </tr>\n",
       "    <tr>\n",
       "      <th>5</th>\n",
       "      <td>03.06.17</td>\n",
       "      <td>2098</td>\n",
       "      <td>Park Plaza</td>\n",
       "      <td>9382244150</td>\n",
       "    </tr>\n",
       "  </tbody>\n",
       "</table>\n",
       "</div>"
      ],
      "text/plain": [
       "            Date Invoice_number Customer_name Contact_number\n",
       "Serial                                                      \n",
       "1       01.06.17           2093  USUI Susira      9710013151\n",
       "2       01.06.17           2092  USUI Susira      9710013151\n",
       "3       01.06.17           2091  USUI Susira      9710013151\n",
       "4       02.06.17           2095   Hueco India     9600073851\n",
       "5       03.06.17           2098    Park Plaza     9382244150"
      ]
     },
     "execution_count": 26,
     "metadata": {},
     "output_type": "execute_result"
    }
   ],
   "source": [
    "df = pd.read_csv('resq-June-2017.csv', index_col = 0)\n",
    "df.head()"
   ]
  },
  {
   "cell_type": "code",
   "execution_count": 27,
   "metadata": {},
   "outputs": [],
   "source": [
    "# to get the one year old dates from the csv and send email to the admin, to renew the client's product \n",
    "\n",
    "current_date = datetime.now().strftime(\"%d.%m.%y\")\n",
    "to_check = current_date[:-2]\n",
    "df = df.loc[df['Date'] == to_check + str(int(current_date[-2:]) - 1), :]\n",
    "\n",
    "if df.empty:\n",
    "    msg = 'No renewals today'\n",
    "else:\n",
    "    df.index = np.arange(1,len(df)+1)\n",
    "    contact_clients = []\n",
    "    for index, row in df.iterrows():\n",
    "         contact_clients.append(str(index) + ' ' + str(row['Date']) + ' ' + str(row['Date']) + ' ' + str(row['Customer_name']) + ' ' + str(row['Contact_number']))"
   ]
  },
  {
   "cell_type": "code",
   "execution_count": 20,
   "metadata": {},
   "outputs": [
    {
     "data": {
      "text/plain": [
       "'No renewals today'"
      ]
     },
     "execution_count": 20,
     "metadata": {},
     "output_type": "execute_result"
    }
   ],
   "source": [
    "# in case of no orders on the same date last year.\n",
    "msg"
   ]
  },
  {
   "cell_type": "code",
   "execution_count": 28,
   "metadata": {},
   "outputs": [
    {
     "data": {
      "text/plain": [
       "['1 29.07.16 29.07.16 Sundaram Clayton Ltd 9840967320',\n",
       " '2 29.07.16 29.07.16 Vivekanada Institute of Bio Technology 9474129451',\n",
       " '3 29.07.16 29.07.16 Konica Colour Lab 9841416519',\n",
       " '4 29.07.16 29.07.16 Medopharm 9551016009',\n",
       " '5 29.07.16 29.07.16 Swaminathan Enterprie 7550097670']"
      ]
     },
     "execution_count": 28,
     "metadata": {},
     "output_type": "execute_result"
    }
   ],
   "source": [
    "# had to manually change all 29.06.17 to 29.07.16 to prove how would the program react, if renewal is supposed to happen this is how it would behave else above scenario. \n",
    "contact_clients"
   ]
  },
  {
   "cell_type": "code",
   "execution_count": null,
   "metadata": {},
   "outputs": [],
   "source": [
    "# for sending the email to admin of resq\n",
    "# note : had to 'allow permission to less secure apps', in gmail else you would get 'SMTPAuthenticationError', though your email id and password being correct\n",
    "\n",
    "import smtplib\n",
    "smtpObj = smtplib.SMTP('smtp.gmail.com', 587)\n",
    "smtpObj.ehlo()\n",
    "smtpObj.starttls()\n",
    "smtpObj.login(\"jaiimmortal@gmail.com\", \"NoWayThisIsMyPwd6969\")\n",
    "if df.empty:\n",
    "    msg = 'No renewals today'\n",
    "    smtpObj.sendmail(\"jaiimmortal@gmail.com\", \"yoyaswant@gmail.com\", 'Subject: {}\\n'.format(current_date[:-3]) + msg)\n",
    "else:\n",
    "    s = '\\n'\n",
    "    msg = s.join(contact_clients)\n",
    "    smtpObj.sendmail(\"jaiimmortal@gmail.com\", \"yoyaswant@gmail.com\", 'Subject: {}\\n'.format(current_date[:-3]) + msg)\n",
    "smtpObj.quit()\n"
   ]
  }
 ],
 "metadata": {
  "kernelspec": {
   "display_name": "Python 3",
   "language": "python",
   "name": "python3"
  },
  "language_info": {
   "codemirror_mode": {
    "name": "ipython",
    "version": 3
   },
   "file_extension": ".py",
   "mimetype": "text/x-python",
   "name": "python",
   "nbconvert_exporter": "python",
   "pygments_lexer": "ipython3",
   "version": "3.6.1"
  }
 },
 "nbformat": 4,
 "nbformat_minor": 2
}
